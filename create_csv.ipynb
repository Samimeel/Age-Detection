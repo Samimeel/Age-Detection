{
 "cells": [
  {
   "cell_type": "code",
   "execution_count": 11,
   "id": "38699896",
   "metadata": {},
   "outputs": [],
   "source": [
    "import csv\n",
    "import os\n",
    "import pandas as pd"
   ]
  },
  {
   "cell_type": "code",
   "execution_count": 12,
   "id": "dfbe87be",
   "metadata": {},
   "outputs": [],
   "source": [
    "def make_csv(path):\n",
    "    images = os.listdir(path)\n",
    "    header = ['img_name','age','ethnicity','gender']\n",
    "    with open('face.csv','w',encoding='UTF8') as f: \n",
    "        writer = csv.writer(f)\n",
    "        writer.writerow(header)\n",
    "        for image in images:\n",
    "            parts = image.split('_')\n",
    "            if len(parts) < 4:\n",
    "                continue\n",
    "            try:\n",
    "                age,gender,ethnicity = map(int,parts[:3])\n",
    "                gender = 'Male' if gender == 0 else 'Female'\n",
    "                ethnicity = ['White','Black','Asian','Indian','Others'][ethnicity]\n",
    "                if age < 85:\n",
    "                    row = [image,age,ethnicity,gender]\n",
    "                    writer.writerow(row)\n",
    "            except(ValueError,IndexError):\n",
    "                continue\n"
   ]
  },
  {
   "cell_type": "code",
   "execution_count": 13,
   "id": "84419ed1",
   "metadata": {},
   "outputs": [],
   "source": [
    "path = 'crop_part1'\n",
    "make_csv(path)"
   ]
  },
  {
   "cell_type": "code",
   "execution_count": 18,
   "id": "364eb44b",
   "metadata": {},
   "outputs": [
    {
     "data": {
      "text/plain": [
       "9489"
      ]
     },
     "execution_count": 18,
     "metadata": {},
     "output_type": "execute_result"
    }
   ],
   "source": [
    "df = pd.read_csv('face.csv')\n",
    "len(df)"
   ]
  },
  {
   "cell_type": "code",
   "execution_count": null,
   "id": "a73c11ef",
   "metadata": {},
   "outputs": [],
   "source": []
  }
 ],
 "metadata": {
  "kernelspec": {
   "display_name": "Python 3",
   "language": "python",
   "name": "python3"
  },
  "language_info": {
   "codemirror_mode": {
    "name": "ipython",
    "version": 3
   },
   "file_extension": ".py",
   "mimetype": "text/x-python",
   "name": "python",
   "nbconvert_exporter": "python",
   "pygments_lexer": "ipython3",
   "version": "3.12.2"
  }
 },
 "nbformat": 4,
 "nbformat_minor": 5
}
